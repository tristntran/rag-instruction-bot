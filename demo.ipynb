{
 "cells": [
  {
   "cell_type": "code",
   "execution_count": 1,
   "metadata": {},
   "outputs": [],
   "source": [
    "import os\n",
    "import sys\n",
    "root_dir = sys.path[0]"
   ]
  },
  {
   "cell_type": "markdown",
   "metadata": {},
   "source": [
    "## Prepare Documents\n",
    "Only needs to be run once, then will persist in memory"
   ]
  },
  {
   "cell_type": "code",
   "execution_count": 2,
   "metadata": {},
   "outputs": [],
   "source": [
    "# paper from online\n",
    "from langchain.document_loaders import TextLoader, DirectoryLoader\n",
    "from langchain.text_splitter import RecursiveCharacterTextSplitter\n",
    "# loader = DirectoryLoader(\"texts\", glob=\"*.txt\", show_progress=True)\n",
    "# docs = loader.load()\n",
    "\n",
    "# paper from Ryan\n",
    "from langchain_community.document_loaders import PyPDFLoader\n",
    "docs = PyPDFLoader(\"Instructions/instructions.pdf\").load()"
   ]
  },
  {
   "cell_type": "code",
   "execution_count": 3,
   "metadata": {},
   "outputs": [
    {
     "data": {
      "text/plain": [
       "23"
      ]
     },
     "execution_count": 3,
     "metadata": {},
     "output_type": "execute_result"
    }
   ],
   "source": [
    "raw_text = ''\n",
    "for i, doc in enumerate(docs):\n",
    "    text = doc.page_content\n",
    "    if text:\n",
    "        raw_text += text\n",
    "text_splitter = RecursiveCharacterTextSplitter(\n",
    "    chunk_size = 500,\n",
    "    chunk_overlap  = 100,\n",
    "    length_function = len,\n",
    "    is_separator_regex = False,\n",
    ")\n",
    "texts = text_splitter.split_text(raw_text)\n",
    "len(texts)"
   ]
  },
  {
   "cell_type": "code",
   "execution_count": 4,
   "metadata": {},
   "outputs": [
    {
     "data": {
      "text/plain": [
       "'This is a study in the economics of market decision making. The instructions are simple, and if you follow them carefully and make  \\ngood decisions, you might earn a considerable amount of money, which will be paid to you via PayPal.  \\nIn this study we are going to simulate a market in which you and the other investors will buy and sell shares in a sequence of \\nperiods. You will be in groups of 8 participants for the duration of this study. Before each period you will be provided'"
      ]
     },
     "execution_count": 4,
     "metadata": {},
     "output_type": "execute_result"
    }
   ],
   "source": [
    "texts[0]"
   ]
  },
  {
   "cell_type": "markdown",
   "metadata": {},
   "source": [
    "## Prepare Database"
   ]
  },
  {
   "cell_type": "code",
   "execution_count": 5,
   "metadata": {},
   "outputs": [],
   "source": [
    "from langchain.embeddings import HuggingFaceBgeEmbeddings\n",
    "from langchain.vectorstores.chroma import Chroma\n",
    "create_db = True # set True to create a new database\n",
    "model_name = \"BAAI/bge-small-en-v1.5\"\n",
    "encode_kwargs = {'normalize_embeddings': True} # set True to compute cosine similarity\n",
    "\n",
    "embedding_function = HuggingFaceBgeEmbeddings(\n",
    "    model_name=model_name,\n",
    "    model_kwargs={'device': 'cuda'},\n",
    "    encode_kwargs=encode_kwargs,\n",
    "\n",
    ")"
   ]
  },
  {
   "cell_type": "code",
   "execution_count": 6,
   "metadata": {},
   "outputs": [],
   "source": [
    "db_dir = os.path.join(root_dir, \"porter_db\")\n",
    "if create_db:\n",
    "### Make the chroma and persiste to disk\n",
    "    db = Chroma.from_texts(texts,\n",
    "                        embedding_function,\n",
    "                        persist_directory=db_dir,)\n",
    "else:\n",
    "    db = Chroma(persist_directory=db_dir, embedding_function=embedding_function)"
   ]
  },
  {
   "cell_type": "code",
   "execution_count": 7,
   "metadata": {},
   "outputs": [
    {
     "data": {
      "text/plain": [
       "[Document(page_content='must submit an ask that is lower than the current lowest ask. Older bids and asks will remain visible temporarily, but can no longer be  \\naccepted.  Only the most recent bid or ask can be accepted. Once there is an acceptance, all old bids and asks are removed.\\n6)Your holdings of shares and cash may never go below zero.  Therefore, you cannot offer to sell a share if you do not have one in  your \\nholdings.  Similarly, you cannot bid more than the cash in your holdings.'),\n",
       " Document(page_content='must submit an ask that is lower than the current lowest ask. Older bids and asks will remain visible temporarily, but can no longer be  \\naccepted.  Only the most recent bid or ask can be accepted. Once there is an acceptance, all old bids and asks are removed.\\n6)Your holdings of shares and cash may never go below zero.  Therefore, you cannot offer to sell a share if you do not have one in  your \\nholdings.  Similarly, you cannot bid more than the cash in your holdings.'),\n",
       " Document(page_content='button.  Similarly, anyone is free to sell a share by accepting someone else’s bid. To sell a share by accepting someone else’s bid, click  \\nthe “Sell” button.\\n4)When a bid or ask is accepted, a binding contract occurs for a single share.  The contracting parties will have their holdings  \\nautomatically updated.\\n5)When submitting a bid, you must submit a bid that is higher than the current highest bid.  Similarly, when submitting an ask, you'),\n",
       " Document(page_content='button.  Similarly, anyone is free to sell a share by accepting someone else’s bid. To sell a share by accepting someone else’s bid, click  \\nthe “Sell” button.\\n4)When a bid or ask is accepted, a binding contract occurs for a single share.  The contracting parties will have their holdings  \\nautomatically updated.\\n5)When submitting a bid, you must submit a bid that is higher than the current highest bid.  Similarly, when submitting an ask, you'),\n",
       " Document(page_content='2)Anyone wishing to sell a share of a given type is free to submit an offer to sell (called an \"ask\") one share of a given type at a \\nspecified price. To submit an ask, type in the amount at which you are offering to sell a given type of share in the box labeled “Ask.”\\n3)Anyone is free to buy a share by accepting someone else’s ask. To purchase a share by accepting someone else’s ask, click the “Buy”')]"
      ]
     },
     "execution_count": 7,
     "metadata": {},
     "output_type": "execute_result"
    }
   ],
   "source": [
    "### Query the database with 5 most similar documents\n",
    "query = \"When can you accept trades?\"\n",
    "\n",
    "db.similarity_search(query, k=5)"
   ]
  },
  {
   "cell_type": "code",
   "execution_count": 8,
   "metadata": {},
   "outputs": [
    {
     "data": {
      "text/plain": [
       "Document(page_content='one-half of the investors will receive a signal that rules out one of the two possible outcomes for that period.  Trading and Recording Rules \\n1)Anyone wishing to buy a share of a given type is free to submit an offer to buy (called a \"bid\") a share of a given type at a specified  \\nprice. To submit a bid, type in the amount you are offering to pay for a given type of share in the box labeled “Bid.”')"
      ]
     },
     "execution_count": 8,
     "metadata": {},
     "output_type": "execute_result"
    }
   ],
   "source": [
    "# create an mmr retriever to get the most relevant matching documents\n",
    "retriever = db.as_retriever(k=5, fetch_k=20, search_type=\"mmr\")\n",
    "\n",
    "retriever.get_relevant_documents(query)[1]"
   ]
  },
  {
   "cell_type": "markdown",
   "metadata": {},
   "source": [
    "## NORMAL RAG"
   ]
  },
  {
   "cell_type": "code",
   "execution_count": 9,
   "metadata": {},
   "outputs": [],
   "source": [
    "import textwrap\n",
    "def wrap_text(text, width=90): #preserve_newlines\n",
    "    # Split the input text into lines based on newline characters\n",
    "    lines = text.split('\\n')\n",
    "\n",
    "    # Wrap each line individually\n",
    "    wrapped_lines = [textwrap.fill(line, width=width) for line in lines]\n",
    "\n",
    "    # Join the wrapped lines back together using newline characters\n",
    "    wrapped_text = '\\n'.join(wrapped_lines)\n",
    "\n",
    "    return wrapped_text"
   ]
  },
  {
   "cell_type": "code",
   "execution_count": 10,
   "metadata": {},
   "outputs": [],
   "source": [
    "from langchain.llms import GPT4All\n",
    "from langchain.schema.runnable import RunnableLambda, RunnablePassthrough\n",
    "from langchain.prompts import ChatPromptTemplate\n",
    "from langchain.schema.output_parser import StrOutputParser\n",
    "\n",
    "\n",
    "template = \"\"\"Answer the question based only on the following context:\n",
    "{context}\n",
    "\n",
    "Question: {question}\n",
    "\"\"\"\n",
    "\n",
    "prompt = ChatPromptTemplate.from_template(template)\n",
    "\n",
    "model_path = os.path.join(root_dir,\n",
    "                          \"model\",\n",
    "                          \"mistral-7b-instruct-v0.1.Q4_0.gguf\")\n",
    "\n",
    "model = GPT4All(\n",
    "    model=model_path\n",
    ")\n",
    "\n",
    "rag_chain = (\n",
    "    {\"context\": retriever, \"question\": RunnablePassthrough()}\n",
    "    | prompt\n",
    "    | model\n",
    "    | StrOutputParser()\n",
    ")"
   ]
  },
  {
   "cell_type": "code",
   "execution_count": 13,
   "metadata": {},
   "outputs": [],
   "source": [
    "original_query = \"What are period earnings if I don't trade?\""
   ]
  },
  {
   "cell_type": "code",
   "execution_count": 14,
   "metadata": {},
   "outputs": [
    {
     "name": "stdout",
     "output_type": "stream",
     "text": [
      "Answer: If you hold x-shares at the end of a period with a value of 100, then your total\n",
      "x-share earnings in that period would be 5x100 = 500 cash. Similarly, if you hold y-shares\n",
      "at the end of a period with a value of 0, then your total y-share earnings in that period\n",
      "would be 4x0 = 0 cash. These are known as \"period earnings\" and they are calculated based\n",
      "on the value of the shares you hold at the end of each period. If you don't trade during a\n",
      "period, these will be your only earnings for that period.\n"
     ]
    }
   ],
   "source": [
    "text_reply = rag_chain.invoke(original_query)\n",
    "\n",
    "print(wrap_text(text_reply))"
   ]
  },
  {
   "cell_type": "markdown",
   "metadata": {},
   "source": [
    "### QUIZ"
   ]
  },
  {
   "cell_type": "code",
   "execution_count": 15,
   "metadata": {},
   "outputs": [
    {
     "name": "stdout",
     "output_type": "stream",
     "text": [
      "Answer: c\n"
     ]
    }
   ],
   "source": [
    "corect_answer = \"c\"\n",
    "question01 = \"At the end of each period, share values are: a. 0, b. 100, c. Either 0 or 100\"\n",
    "text_reply = rag_chain.invoke(question01)\n",
    "print(wrap_text(text_reply))"
   ]
  },
  {
   "cell_type": "code",
   "execution_count": null,
   "metadata": {},
   "outputs": [],
   "source": [
    "question02 = \"A person purchased a share of Y for 47 and held the share until the period ended. If the outcome is X, how much money did this person make as a result of the trade?\"\n"
   ]
  },
  {
   "cell_type": "markdown",
   "metadata": {},
   "source": [
    "## RAG FUSION"
   ]
  },
  {
   "cell_type": "code",
   "execution_count": 15,
   "metadata": {},
   "outputs": [],
   "source": [
    "from langchain.schema.output_parser import StrOutputParser\n",
    "from langchain.prompts import SystemMessagePromptTemplate, HumanMessagePromptTemplate\n",
    "from langchain.prompts import ChatMessagePromptTemplate, PromptTemplate"
   ]
  },
  {
   "cell_type": "code",
   "execution_count": 16,
   "metadata": {},
   "outputs": [],
   "source": [
    "prompt = ChatPromptTemplate(\n",
    "    input_variables=[\"original_query\"],\n",
    "    messages=[\n",
    "        SystemMessagePromptTemplate(\n",
    "            prompt=PromptTemplate(\n",
    "                input_variables=[],\n",
    "                template=\"You are a helpful assistant that generates multiple search queries based on a single input query.\",\n",
    "            )\n",
    "        ),\n",
    "        HumanMessagePromptTemplate(\n",
    "            prompt=PromptTemplate(\n",
    "                input_variables=[\"original_query\"],\n",
    "                template=\"Generate multiple search queries related to: {question} \\n OUTPUT (4 queries):\",\n",
    "            )\n",
    "        ),\n",
    "    ],\n",
    ")"
   ]
  },
  {
   "cell_type": "code",
   "execution_count": 17,
   "metadata": {},
   "outputs": [],
   "source": [
    "model = GPT4All(\n",
    "    model=model_path\n",
    ")\n"
   ]
  },
  {
   "cell_type": "code",
   "execution_count": 18,
   "metadata": {},
   "outputs": [],
   "source": [
    "chain = (\n",
    "    {\"context\": retriever, \"question\": RunnablePassthrough()}\n",
    "    | prompt\n",
    "    | model\n",
    "    | StrOutputParser()\n",
    ")"
   ]
  },
  {
   "cell_type": "markdown",
   "metadata": {},
   "source": [
    "## RAG Fusion"
   ]
  },
  {
   "cell_type": "markdown",
   "metadata": {},
   "source": [
    "### Generating Queries"
   ]
  },
  {
   "cell_type": "code",
   "execution_count": 19,
   "metadata": {},
   "outputs": [],
   "source": [
    "generate_queries = (\n",
    "    prompt | model | StrOutputParser() | (lambda x: x.split(\"\\n\"))\n",
    ")"
   ]
  },
  {
   "cell_type": "code",
   "execution_count": 30,
   "metadata": {},
   "outputs": [
    {
     "data": {
      "text/plain": [
       "['',\n",
       " '1. What is the minimum amount of cryptocurrency you can hold without making any trades?',\n",
       " '2. Can you calculate my earnings based on not trading in this market?',\n",
       " \"3. If I don't trade, how much will my portfolio value increase over time?\",\n",
       " '4. How does not trading affect my overall investment returns?']"
      ]
     },
     "execution_count": 30,
     "metadata": {},
     "output_type": "execute_result"
    }
   ],
   "source": [
    "generate_queries.invoke({\"question\": original_query})"
   ]
  },
  {
   "cell_type": "markdown",
   "metadata": {},
   "source": [
    "## Rank and Fuse"
   ]
  },
  {
   "cell_type": "code",
   "execution_count": 21,
   "metadata": {},
   "outputs": [],
   "source": [
    "from langchain.load import dumps, loads\n",
    "\n",
    "\n",
    "def reciprocal_rank_fusion(results: list[list], k=60):\n",
    "    fused_scores = {}\n",
    "    for docs in results:\n",
    "        # Assumes the docs are returned in sorted order of relevance\n",
    "        for rank, doc in enumerate(docs):\n",
    "            doc_str = dumps(doc)\n",
    "            if doc_str not in fused_scores:\n",
    "                fused_scores[doc_str] = 0\n",
    "            previous_score = fused_scores[doc_str]\n",
    "            fused_scores[doc_str] += 1 / (rank + k)\n",
    "\n",
    "    reranked_results = [\n",
    "        (loads(doc), score)\n",
    "        for doc, score in sorted(fused_scores.items(), key=lambda x: x[1], reverse=True)\n",
    "    ]\n",
    "    return reranked_results"
   ]
  },
  {
   "cell_type": "code",
   "execution_count": 22,
   "metadata": {},
   "outputs": [],
   "source": [
    "ragfusion_chain = generate_queries | retriever.map() | reciprocal_rank_fusion"
   ]
  },
  {
   "cell_type": "code",
   "execution_count": 23,
   "metadata": {},
   "outputs": [
    {
     "data": {
      "text/plain": [
       "{'title': 'PromptInput',\n",
       " 'type': 'object',\n",
       " 'properties': {'question': {'title': 'Question', 'type': 'string'}}}"
      ]
     },
     "execution_count": 23,
     "metadata": {},
     "output_type": "execute_result"
    }
   ],
   "source": [
    "ragfusion_chain.input_schema.schema()"
   ]
  },
  {
   "cell_type": "code",
   "execution_count": 24,
   "metadata": {},
   "outputs": [
    {
     "name": "stderr",
     "output_type": "stream",
     "text": [
      "C:\\Users\\Tristan\\AppData\\Roaming\\Python\\Python310\\site-packages\\langchain_core\\_api\\beta_decorator.py:86: LangChainBetaWarning: The function `loads` is in beta. It is actively being worked on, so the API may change.\n",
      "  warn_beta(\n"
     ]
    },
    {
     "data": {
      "text/plain": [
       "[(Document(page_content='held at the end of the period minus the loan \\nrepayment. \\nThere will be several market periods.  Your PayPal payment will be based on the sum of your earnings from all periods \\nplus the $7 payment for showing-up on time for this study.\\nIf you have any questions, please raise your hand. \\nOtherwise, please remain silent.   \\nThe study will begin shortly.'),\n",
       "  0.04787506400409626),\n",
       " (Document(page_content='button.  Similarly, anyone is free to sell a share by accepting someone else’s bid. To sell a share by accepting someone else’s bid, click  \\nthe “Sell” button.\\n4)When a bid or ask is accepted, a binding contract occurs for a single share.  The contracting parties will have their holdings  \\nautomatically updated.\\n5)When submitting a bid, you must submit a bid that is higher than the current highest bid.  Similarly, when submitting an ask, you'),\n",
       "  0.03333333333333333),\n",
       " (Document(page_content='This is a study in the economics of market decision making. The instructions are simple, and if you follow them carefully and make  \\ngood decisions, you might earn a considerable amount of money, which will be paid to you via PayPal.  \\nIn this study we are going to simulate a market in which you and the other investors will buy and sell shares in a sequence of \\nperiods. You will be in groups of 8 participants for the duration of this study. Before each period you will be provided'),\n",
       "  0.03306010928961749),\n",
       " (Document(page_content='one-half of the investors will receive a signal that rules out one of the two possible outcomes for that period.  Trading and Recording Rules \\n1)Anyone wishing to buy a share of a given type is free to submit an offer to buy (called a \"bid\") a share of a given type at a specified  \\nprice. To submit a bid, type in the amount you are offering to pay for a given type of share in the box labeled “Bid.”'),\n",
       "  0.03306010928961749),\n",
       " (Document(page_content='holdings.  Similarly, you cannot bid more than the cash in your holdings.\\n7)The market period will last for 2 00 seconds.We will now explain the layout of your \\ncomputer screen.  \\nThe upper portion of the screen displays the \\nmarket for x -shares and the market for \\ny-shares. Notice that there are separate\\nmarkets for each type of share.\\nExample  \\nIn this example, the current bid for an \\nx-share is 25.  You could sell an x -share at\\na price of 25 by clicking on the “Sell”\\nbutton.'),\n",
       "  0.03252247488101534),\n",
       " (Document(page_content='Similarly , you may buy shares.  Buying a sha re reduces your cash by the amount of the purchas e price. Thus you can gain or lose cash \\nbuying and selling shares . At the end of the period , you will collect the share values for the shares you have as described previously and \\nthen all o f you r share holdings are automatically sold to the experimenter at a price of 0.'),\n",
       "  0.03252247488101534),\n",
       " (Document(page_content='before the study began resulted in the \\noutcome being x or y; 2) the signal you \\nreceive, if you receive one; and 3) the value\\nof an x-share and a y-share given the \\ninformation you have.  \\nExample \\nIn this example, the signal is Not Y.  This \\nmeans the outcome is X. Therefore, \\nx-shares are worth 100 and y-shares are\\nworth 0.\\nExample \\nIn this example, there is no signal. \\nTherefore, you know there is a 1/2 chance\\nthe outcome is x in which case x-shares are'),\n",
       "  0.016666666666666666),\n",
       " (Document(page_content='information which helps determine the value to you of any decisions you might make. You will have 3 seconds to review this \\ninformation, but it will also be available during the period.  \\nThe money used in this market is called cash. All trading and earnings will be in terms of cash. At the end of the study your cash will be'),\n",
       "  0.01639344262295082),\n",
       " (Document(page_content='x-share is 25.  You could sell an x -share at\\na price of 25 by clicking on the “Sell”\\nbutton.\\nThe current ask for an x -share is 67.  You \\ncould offer to sell an x -share for less than \\n67 by typing a price in the blank box beside \\nthe “Ask” button and then pressing the \\n“Ask” button.   \\nThe left lower portion of the screen displays \\nYour Information. This includes 1) the \\nprobability the random drawing held \\nbefore the study began resulted in the \\noutcome being x or y; 2) the signal you'),\n",
       "  0.016129032258064516),\n",
       " (Document(page_content='Therefore, you know there is a 1/2 chance\\nthe outcome is x in which case x-shares are \\nworth 100 and y-shares are worth 0.  You \\nalso know there is a 1/2 chance the\\noutcome  is y in which  case x-shares  are \\nworth 0 and y-shares are worth 100. \\nKeep in mind that in each period half of the \\ntraders  will get a signal  and the other  half \\nwill not get a signal.   \\nThe low er right portion o f you r screen \\nshows You r Holdings.   \\nExample  \\nIn this example, you have 2 x-shares, 2'),\n",
       "  0.016129032258064516),\n",
       " (Document(page_content='2)Anyone wishing to sell a share of a given type is free to submit an offer to sell (called an \"ask\") one share of a given type at a \\nspecified price. To submit an ask, type in the amount at which you are offering to sell a given type of share in the box labeled “Ask.”\\n3)Anyone is free to buy a share by accepting someone else’s ask. To purchase a share by accepting someone else’s ask, click the “Buy”'),\n",
       "  0.015873015873015872),\n",
       " (Document(page_content='must submit an ask that is lower than the current lowest ask. Older bids and asks will remain visible temporarily, but can no longer be  \\naccepted.  Only the most recent bid or ask can be accepted. Once there is an acceptance, all old bids and asks are removed.\\n6)Your holdings of shares and cash may never go below zero.  Therefore, you cannot offer to sell a share if you do not have one in  your \\nholdings.  Similarly, you cannot bid more than the cash in your holdings.'),\n",
       "  0.015873015873015872),\n",
       " (Document(page_content='shows You r Holdings.   \\nExample  \\nIn this example, you have 2 x-shares, 2 \\ny-shares, and 4500 in cash.  You can also\\nsee that the Loan amount is 4500.\\nKeep in mind that your profit at the end of a \\nperiod  equals  your  initial  cash  plus the \\np\\nrice of shares  sold  minus  the price  of \\nshares  purchased  plus  the value  of shares \\nheld at the end of the period minus the loan \\nrepayment.'),\n",
       "  0.015873015873015872)]"
      ]
     },
     "execution_count": 24,
     "metadata": {},
     "output_type": "execute_result"
    }
   ],
   "source": [
    "ragfusion_chain.invoke({\"question\": original_query})"
   ]
  },
  {
   "cell_type": "code",
   "execution_count": 25,
   "metadata": {},
   "outputs": [],
   "source": [
    "from langchain.schema.runnable import RunnablePassthrough\n",
    "template = \"\"\"Answer the question based only on the following context:\n",
    "{context}\n",
    "\n",
    "Question: {question}\n",
    "\"\"\"\n",
    "prompt = ChatPromptTemplate.from_template(template)\n",
    "\n",
    "full_rag_fusion_chain = (\n",
    "    {\n",
    "        \"context\": ragfusion_chain,\n",
    "        \"question\": RunnablePassthrough()\n",
    "    }\n",
    "    | prompt\n",
    "    | model\n",
    "    | StrOutputParser()\n",
    ")"
   ]
  },
  {
   "cell_type": "code",
   "execution_count": 26,
   "metadata": {},
   "outputs": [
    {
     "name": "stdout",
     "output_type": "stream",
     "text": [
      "Answer: Auctions are a type of market where buyers and sellers come together to trade\n",
      "goods or services at an agreed-upon price. In this particular auction, you can accept\n",
      "trades by submitting an ask that is lower than the current highest bid for a given share.\n",
      "When someone accepts your ask, a binding contract occurs for a single share, and your\n",
      "holdings will be automatically updated.\n"
     ]
    }
   ],
   "source": [
    "response = full_rag_fusion_chain.invoke({\"question\": \"Tell me about auctions. When can you accept trades?\"})\n",
    "print(wrap_text(response))"
   ]
  },
  {
   "cell_type": "code",
   "execution_count": 33,
   "metadata": {},
   "outputs": [
    {
     "name": "stdout",
     "output_type": "stream",
     "text": [
      "Answer: 0\n"
     ]
    }
   ],
   "source": [
    "response = full_rag_fusion_chain.invoke({\"question\": \"what is experiment payoff for doing nothing?\"})\n",
    "print(wrap_text(response))"
   ]
  },
  {
   "cell_type": "code",
   "execution_count": null,
   "metadata": {},
   "outputs": [],
   "source": []
  }
 ],
 "metadata": {
  "kernelspec": {
   "display_name": "Python 3",
   "language": "python",
   "name": "python3"
  },
  "language_info": {
   "codemirror_mode": {
    "name": "ipython",
    "version": 3
   },
   "file_extension": ".py",
   "mimetype": "text/x-python",
   "name": "python",
   "nbconvert_exporter": "python",
   "pygments_lexer": "ipython3",
   "version": "3.10.13"
  }
 },
 "nbformat": 4,
 "nbformat_minor": 2
}
