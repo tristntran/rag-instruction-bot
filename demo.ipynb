{
 "cells": [
  {
   "cell_type": "code",
   "execution_count": 2,
   "metadata": {},
   "outputs": [],
   "source": [
    "import os\n",
    "import sys\n",
    "root_dir = sys.path[0]"
   ]
  },
  {
   "cell_type": "markdown",
   "metadata": {},
   "source": [
    "## Prepare Documents\n",
    "Only needs to be run once, then will persist in memory"
   ]
  },
  {
   "cell_type": "code",
   "execution_count": 3,
   "metadata": {},
   "outputs": [
    {
     "name": "stderr",
     "output_type": "stream",
     "text": [
      "100%|██████████| 1/1 [00:03<00:00,  3.30s/it]\n"
     ]
    },
    {
     "data": {
      "text/plain": [
       "1"
      ]
     },
     "execution_count": 3,
     "metadata": {},
     "output_type": "execute_result"
    }
   ],
   "source": [
    "from langchain.document_loaders import TextLoader, DirectoryLoader\n",
    "from langchain.text_splitter import RecursiveCharacterTextSplitter\n",
    "loader = DirectoryLoader(\"texts\", glob=\"*.txt\", show_progress=True)\n",
    "docs = loader.load()\n",
    "len(docs)"
   ]
  },
  {
   "cell_type": "code",
   "execution_count": 4,
   "metadata": {},
   "outputs": [
    {
     "data": {
      "text/plain": [
       "53"
      ]
     },
     "execution_count": 4,
     "metadata": {},
     "output_type": "execute_result"
    }
   ],
   "source": [
    "raw_text = ''\n",
    "for i, doc in enumerate(docs):\n",
    "    text = doc.page_content\n",
    "    if text:\n",
    "        raw_text += text\n",
    "text_splitter = RecursiveCharacterTextSplitter(\n",
    "    chunk_size = 500,\n",
    "    chunk_overlap  = 100,\n",
    "    length_function = len,\n",
    "    is_separator_regex = False,\n",
    ")\n",
    "texts = text_splitter.split_text(raw_text)\n",
    "len(texts)"
   ]
  },
  {
   "cell_type": "code",
   "execution_count": 5,
   "metadata": {},
   "outputs": [
    {
     "data": {
      "text/plain": [
       "'A Appendix: Instructions This appendix provides the English translations of the instructions for the 4I treatment.'"
      ]
     },
     "execution_count": 5,
     "metadata": {},
     "output_type": "execute_result"
    }
   ],
   "source": [
    "texts[0]"
   ]
  },
  {
   "cell_type": "markdown",
   "metadata": {},
   "source": [
    "## Prepare Database"
   ]
  },
  {
   "cell_type": "code",
   "execution_count": 6,
   "metadata": {},
   "outputs": [],
   "source": [
    "from langchain.embeddings import HuggingFaceBgeEmbeddings\n",
    "from langchain.vectorstores.chroma import Chroma\n",
    "create_db = False # set True to create a new database\n",
    "model_name = \"BAAI/bge-small-en-v1.5\"\n",
    "encode_kwargs = {'normalize_embeddings': True} # set True to compute cosine similarity\n",
    "\n",
    "embedding_function = HuggingFaceBgeEmbeddings(\n",
    "    model_name=model_name,\n",
    "    model_kwargs={'device': 'cuda'},\n",
    "    encode_kwargs=encode_kwargs,\n",
    "\n",
    ")"
   ]
  },
  {
   "cell_type": "code",
   "execution_count": 7,
   "metadata": {},
   "outputs": [],
   "source": [
    "db_dir = os.path.join(root_dir, \"chroma_db\")\n",
    "if create_db:\n",
    "### Make the chroma and persiste to disk\n",
    "    db = Chroma.from_texts(texts,\n",
    "                        embedding_function,\n",
    "                        persist_directory=db_dir,)\n",
    "else:\n",
    "    db = Chroma(persist_directory=db_dir, embedding_function=embedding_function)"
   ]
  },
  {
   "cell_type": "code",
   "execution_count": 8,
   "metadata": {},
   "outputs": [
    {
     "data": {
      "text/plain": [
       "[Document(page_content='Another trader can now accept the new Ask of 70 that you have just made by clicking on the ‘Immediately BUY’ button at the bottom of the screen. The transaction price will then appear in the middle column ‘Transaction Details’. Because you sold the asset the Buy/Sell column will indicate ‘Sell’ so that you can keep track of what you are buying and selling. As a result of the transaction, the Ask will not be available anymore in the ‘Outstanding Ask’ column.'),\n",
       " Document(page_content='Another trader can now accept the new Bid of 50 that you have just made by clicking on the ‘Immediately SELL’ button at the bottom of the screen. The transaction price will then appear in the middle column ‘Transaction Details’ (see image below). Because you bought the asset the Buy/Sell column will indicate ‘Buy’ so that you can keep track of what you are buying and selling.'),\n",
       " Document(page_content='Because the Ask of 70 has been accepted, you have sold one unit of Asset Y at 70 to another trader. Your cash, as shown in ‘Your Current Holdings’ will thus go up by 70 and the number of Asset Y units you hold will decrease by one. The trader who bought the unit from you will decrease his or her cash by 70 and hold one more unit of Asset Y. Note that if you submit an Ask (Offer to Sell) that is less than the current highest Bid (Offer to Buy), then you will automatically sell one unit of the'),\n",
       " Document(page_content='4. You can submit Bids and Asks or accept available offers from other traders to trade units. 5. The amount units pay to their owners at the end of a market period is based on the state (A, B, or C) for Type I and Type II as follows. All States are equally likely.'),\n",
       " Document(page_content='As a result of the transaction, the Bid will no longer appear in the ‘Outstanding Bid’ column. Because the Bid of 50 has been accepted, you have bought one unit of Asset X at a price of 50 from another trader. Your cash, as shown in ‘Your Current Holdings’ will thus go down by 50 and the number of Asset X units you hold will increase by one. The trader who sold the unit to you will increase his or her cash by 50 and hold one unit less of Asset X. The upper part of the trading screen referred to')]"
      ]
     },
     "execution_count": 8,
     "metadata": {},
     "output_type": "execute_result"
    }
   ],
   "source": [
    "### Query the database with 5 most similar documents\n",
    "query = \"When can you accept trades?\"\n",
    "\n",
    "db.similarity_search(query, k=5)"
   ]
  },
  {
   "cell_type": "code",
   "execution_count": 9,
   "metadata": {},
   "outputs": [
    {
     "data": {
      "text/plain": [
       "Document(page_content='4. You can submit Bids and Asks or accept available offers from other traders to trade units. 5. The amount units pay to their owners at the end of a market period is based on the state (A, B, or C) for Type I and Type II as follows. All States are equally likely.')"
      ]
     },
     "execution_count": 9,
     "metadata": {},
     "output_type": "execute_result"
    }
   ],
   "source": [
    "# create an mmr retriever to get the most relevant matching documents\n",
    "retriever = db.as_retriever(k=5, fetch_k=20, search_type=\"mmr\")\n",
    "\n",
    "retriever.get_relevant_documents(query)[1]"
   ]
  },
  {
   "cell_type": "markdown",
   "metadata": {},
   "source": [
    "## Create Chat"
   ]
  },
  {
   "cell_type": "code",
   "execution_count": 10,
   "metadata": {},
   "outputs": [],
   "source": [
    "import textwrap\n",
    "def wrap_text(text, width=90): #preserve_newlines\n",
    "    # Split the input text into lines based on newline characters\n",
    "    lines = text.split('\\n')\n",
    "\n",
    "    # Wrap each line individually\n",
    "    wrapped_lines = [textwrap.fill(line, width=width) for line in lines]\n",
    "\n",
    "    # Join the wrapped lines back together using newline characters\n",
    "    wrapped_text = '\\n'.join(wrapped_lines)\n",
    "\n",
    "    return wrapped_text"
   ]
  },
  {
   "cell_type": "code",
   "execution_count": 11,
   "metadata": {},
   "outputs": [],
   "source": [
    "from langchain.llms import GPT4All\n",
    "from langchain.schema.runnable import RunnableLambda, RunnablePassthrough\n",
    "from langchain.prompts import ChatPromptTemplate\n",
    "from langchain.schema.output_parser import StrOutputParser\n",
    "\n",
    "\n",
    "\n",
    "template = \"\"\"Answer the question based only on the following context:\n",
    "{context}\n",
    "\n",
    "Question: {question}\n",
    "\"\"\"\n",
    "\n",
    "prompt = ChatPromptTemplate.from_template(template)\n",
    "\n",
    "model_path = os.path.join(root_dir,\n",
    "                          \"model\",\n",
    "                          \"mistral-7b-instruct-v0.1.Q4_0.gguf\")\n",
    "\n",
    "model = GPT4All(\n",
    "    model=model_path\n",
    ")\n",
    "\n",
    "chain = (\n",
    "    {\"context\": retriever, \"question\": RunnablePassthrough()}\n",
    "    | prompt\n",
    "    | model\n",
    "    | StrOutputParser()\n",
    ")"
   ]
  },
  {
   "cell_type": "code",
   "execution_count": 12,
   "metadata": {},
   "outputs": [
    {
     "name": "stdout",
     "output_type": "stream",
     "text": [
      "Answer: Auctions are a type of trading where buyers and sellers come together to trade\n",
      "units based on their perceived value. In an auction, bids and asks are submitted by\n",
      "traders for each asset available in the market. The lowest (best) ask and the highest\n",
      "(best) bid appear at the top of the list, indicating that they have been accepted by other\n",
      "traders. To accept a trade, you can click on the ‘Immediately BUY’ button if you want to\n",
      "buy units or the ‘Immediately SELL’ button if you want to sell units. However, you cannot\n",
      "highlight one of your own bids (asks) and click these buttons as it will result in an\n",
      "error message.\n"
     ]
    }
   ],
   "source": [
    "text_reply = chain.invoke(\"Tell me about auctions. When can you accept trades?\")\n",
    "\n",
    "print(wrap_text(text_reply))"
   ]
  },
  {
   "cell_type": "markdown",
   "metadata": {},
   "source": [
    "## Normal Retreival"
   ]
  },
  {
   "cell_type": "code",
   "execution_count": 13,
   "metadata": {},
   "outputs": [],
   "source": [
    "from langchain.schema.output_parser import StrOutputParser\n",
    "from langchain.prompts import SystemMessagePromptTemplate, HumanMessagePromptTemplate\n",
    "from langchain.prompts import ChatMessagePromptTemplate, PromptTemplate"
   ]
  },
  {
   "cell_type": "code",
   "execution_count": 14,
   "metadata": {},
   "outputs": [],
   "source": [
    "prompt = ChatPromptTemplate(\n",
    "    input_variables=[\"original_query\"],\n",
    "    messages=[\n",
    "        SystemMessagePromptTemplate(\n",
    "            prompt=PromptTemplate(\n",
    "                input_variables=[],\n",
    "                template=\"You are a helpful assistant that generates multiple search queries based on a single input query.\",\n",
    "            )\n",
    "        ),\n",
    "        HumanMessagePromptTemplate(\n",
    "            prompt=PromptTemplate(\n",
    "                input_variables=[\"original_query\"],\n",
    "                template=\"Generate multiple search queries related to: {question} \\n OUTPUT (4 queries):\",\n",
    "            )\n",
    "        ),\n",
    "    ],\n",
    ")"
   ]
  },
  {
   "cell_type": "code",
   "execution_count": 15,
   "metadata": {},
   "outputs": [],
   "source": [
    "model = GPT4All(\n",
    "    model=model_path\n",
    ")\n"
   ]
  },
  {
   "cell_type": "code",
   "execution_count": 16,
   "metadata": {},
   "outputs": [],
   "source": [
    "chain = (\n",
    "    {\"context\": retriever, \"question\": RunnablePassthrough()}\n",
    "    | prompt\n",
    "    | model\n",
    "    | StrOutputParser()\n",
    ")"
   ]
  },
  {
   "cell_type": "code",
   "execution_count": 17,
   "metadata": {},
   "outputs": [],
   "source": [
    "generate_queries = (\n",
    "    prompt | model | StrOutputParser() | (lambda x: x.split(\"\\n\"))\n",
    ")"
   ]
  },
  {
   "cell_type": "code",
   "execution_count": 18,
   "metadata": {},
   "outputs": [],
   "source": [
    "original_query = \"how to bid\""
   ]
  },
  {
   "cell_type": "code",
   "execution_count": 19,
   "metadata": {},
   "outputs": [],
   "source": [
    "from langchain.load import dumps, loads\n",
    "\n",
    "\n",
    "def reciprocal_rank_fusion(results: list[list], k=60):\n",
    "    fused_scores = {}\n",
    "    for docs in results:\n",
    "        # Assumes the docs are returned in sorted order of relevance\n",
    "        for rank, doc in enumerate(docs):\n",
    "            doc_str = dumps(doc)\n",
    "            if doc_str not in fused_scores:\n",
    "                fused_scores[doc_str] = 0\n",
    "            previous_score = fused_scores[doc_str]\n",
    "            fused_scores[doc_str] += 1 / (rank + k)\n",
    "\n",
    "    reranked_results = [\n",
    "        (loads(doc), score)\n",
    "        for doc, score in sorted(fused_scores.items(), key=lambda x: x[1], reverse=True)\n",
    "    ]\n",
    "    return reranked_results"
   ]
  },
  {
   "cell_type": "code",
   "execution_count": 20,
   "metadata": {},
   "outputs": [],
   "source": [
    "ragfusion_chain = generate_queries | retriever.map() | reciprocal_rank_fusion"
   ]
  },
  {
   "cell_type": "code",
   "execution_count": 21,
   "metadata": {},
   "outputs": [
    {
     "data": {
      "text/plain": [
       "{'title': 'PromptInput',\n",
       " 'type': 'object',\n",
       " 'properties': {'question': {'title': 'Question', 'type': 'string'}}}"
      ]
     },
     "execution_count": 21,
     "metadata": {},
     "output_type": "execute_result"
    }
   ],
   "source": [
    "ragfusion_chain.input_schema.schema()"
   ]
  },
  {
   "cell_type": "code",
   "execution_count": 22,
   "metadata": {},
   "outputs": [
    {
     "name": "stderr",
     "output_type": "stream",
     "text": [
      "C:\\Users\\Tristan\\AppData\\Roaming\\Python\\Python310\\site-packages\\langchain_core\\_api\\beta_decorator.py:86: LangChainBetaWarning: The function `loads` is in beta. It is actively being worked on, so the API may change.\n",
      "  warn_beta(\n"
     ]
    },
    {
     "data": {
      "text/plain": [
       "[(Document(page_content='A.1 Introduction This is an experiment in the economics of market decision-making. You will be compensated at the end of the experiment based on your decisions. So, it is important that you understand the instructions completely. We will ask you a 7-question quiz at the end of the instructions. If you answer these 7 questions correctly, you will earn an extra bonus of 5 CNYs. If you have a question during the experiment, please raise your hand, and a monitor will approach you. Otherwise, you'),\n",
       "  0.0803975388851116),\n",
       " (Document(page_content='bids or asks. You will receive an error message if you highlight one of your own bids (asks) and click the ‘Immediately SELL’ (‘Immediately BUY’) button.'),\n",
       "  0.06584699453551913),\n",
       " (Document(page_content='A.12 Trading (Order Book) Several Bids or Asks can be available at the same time for each Asset. In the example screen below, there are three Bids (285, 280, 270) and three Asks (340, 350, 355) available for Asset X. Note that the lowest (best) Ask and the highest (best) Bid appear at the top of the list (Marked in the blue background). The ‘***’ symbol in the ‘My ASK’ column indicates you submitted the Ask of 350.'),\n",
       "  0.03333333333333333),\n",
       " (Document(page_content='4. You can submit Bids and Asks or accept available offers from other traders to trade units. 5. The amount units pay to their owners at the end of a market period is based on the state (A, B, or C) for Type I and Type II as follows. All States are equally likely.'),\n",
       "  0.03225806451612903),\n",
       " (Document(page_content='Type II and Type III traders will not receive a private signal. Thus, they will only know that the asset’s value has equal chances of being in state A, B or C. The ‘Asset Value’ section of the screen will show question marks ‘?’ for those traders as below as shown below.'),\n",
       "  0.016666666666666666),\n",
       " (Document(page_content='To sell a unit of an asset, click the ‘Immediately SELL’ button. This will cause you to sell one unit of the asset at the highest Outstanding BID amount (285 in the above image). To buy a unit of an asset, click the ‘Immediately BUY’ button. This will cause you to buy one unit of the asset at the lowest Outstanding ASK amount (340 in the above image). Note that you cannot accept one of your own bids or asks. You will receive an error message if you highlight one of your own bids (asks) and'),\n",
       "  0.016666666666666666),\n",
       " (Document(page_content='higher price than your available cash, because you would not have enough money to buy the unit. You may view how much cash you have available for Bids by looking at the Cash amount in the ‘Available’ row of the ‘Your Current Holdings’ table. The image below shows a case in which you have no cash available to buy units. You have no cash available because the cash you own (500 in the Cash column for ‘Total Owned’ in the image below) has already been used to place Bids (see 500 in the Cash column'),\n",
       "  0.01639344262295082),\n",
       " (Document(page_content='for sale (see the Asset Y column for ‘Offered’ that has a value of 1). However, these offered units have not been sold yet. If you want to increase your units available, you can delete some of your Asks (identified by blue font and the ‘***’ symbol in the ‘My ASK’ column next to your ask amount in the ‘Outstanding ASK’ column) by selecting them and clicking on the ‘Delete’ button at the bottom of your screen. You may not delete your ask if it is currently the best (lowest) ask in the market.'),\n",
       "  0.016129032258064516),\n",
       " (Document(page_content='A.15 Summary 1. There will be 15 market periods. Every period will last 4 minutes. 2. You will be given the same amount of cash and units to start each market period. 3. Traders can buy and sell units of two different assets, X and Y. X units will trade in the X market and Y units will trade in the Y market. You can trade in both markets.'),\n",
       "  0.015873015873015872),\n",
       " (Document(page_content='A, B, or C in a given market period. The manner in which Type III Traders earn money is described on later pages.'),\n",
       "  0.015873015873015872),\n",
       " (Document(page_content='value * Y units Suppose you have 500 ECUs in cash, 3 X units, and 2 Y units at the end of a market period. Further, suppose the State is A. This means each X unit pays you 50, and each Y unit pays you 25. Then your earnings from this market period are: 500 + 3 * 50 + 2 * 25 = 700 ECUs During a market period, you can track your provisional profit on your screen. For each State, your provisional profit shows the earnings you would obtain if the market were to close instantaneously. Type I traders'),\n",
       "  0.015873015873015872)]"
      ]
     },
     "execution_count": 22,
     "metadata": {},
     "output_type": "execute_result"
    }
   ],
   "source": [
    "ragfusion_chain.invoke({\"question\": original_query})"
   ]
  },
  {
   "cell_type": "code",
   "execution_count": 23,
   "metadata": {},
   "outputs": [],
   "source": [
    "from langchain.schema.runnable import RunnablePassthrough\n",
    "template = \"\"\"Answer the question based only on the following context:\n",
    "{context}\n",
    "\n",
    "Question: {question}\n",
    "\"\"\"\n",
    "prompt = ChatPromptTemplate.from_template(template)\n",
    "\n",
    "full_rag_fusion_chain = (\n",
    "    {\n",
    "        \"context\": ragfusion_chain,\n",
    "        \"question\": RunnablePassthrough()\n",
    "    }\n",
    "    | prompt\n",
    "    | model\n",
    "    | StrOutputParser()\n",
    ")"
   ]
  },
  {
   "cell_type": "code",
   "execution_count": 24,
   "metadata": {},
   "outputs": [
    {
     "name": "stdout",
     "output_type": "stream",
     "text": [
      "Answer: Auctions are a type of trading where buyers and sellers come together to trade\n",
      "units at an agreed-upon price. In this experiment, traders can submit Bids (Offers to Buy)\n",
      "or Asks (Offers to Sell) for Asset X and Asset Y units from one another during market\n",
      "periods. To create a Bid for Asset X (Asset Y), you have to type in the price you would\n",
      "like to buy in the Bid box on the left side of the trading screen for Asset X (Asset Y).\n",
      "Note that you will not be able to create a Bid with a higher price than your available\n",
      "cash, because you would not have enough money to buy the unit. You may view how much cash\n",
      "you have available for Bids by looking at the Cash amount in the ‘Available’ row of the\n",
      "‘Your Current Holdings’ table. The image below shows a case where you have no cash\n",
      "available to buy units. You have no cash available because the cash you own (500 in the\n",
      "Cash column for ‘Total Owned’ in the image below) has already been used to place Bids (see\n",
      "500 in the Cash column). During market periods, traders can accept trades by\n"
     ]
    }
   ],
   "source": [
    "response = full_rag_fusion_chain.invoke({\"question\": \"Tell me about auctions. When can you accept trades?\"})\n",
    "print(wrap_text(response))"
   ]
  }
 ],
 "metadata": {
  "kernelspec": {
   "display_name": "Python 3",
   "language": "python",
   "name": "python3"
  },
  "language_info": {
   "codemirror_mode": {
    "name": "ipython",
    "version": 3
   },
   "file_extension": ".py",
   "mimetype": "text/x-python",
   "name": "python",
   "nbconvert_exporter": "python",
   "pygments_lexer": "ipython3",
   "version": "3.10.13"
  }
 },
 "nbformat": 4,
 "nbformat_minor": 2
}
